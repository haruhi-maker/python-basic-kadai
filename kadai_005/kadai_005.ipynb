{
  "nbformat": 4,
  "nbformat_minor": 0,
  "metadata": {
    "colab": {
      "provenance": []
    },
    "kernelspec": {
      "name": "python3",
      "display_name": "Python 3"
    },
    "language_info": {
      "name": "python"
    }
  },
  "cells": [
    {
      "cell_type": "code",
      "execution_count": 5,
      "metadata": {
        "colab": {
          "base_uri": "https://localhost:8080/"
        },
        "id": "EXwWvMci6ZYl",
        "outputId": "3afde305-ff39-4ff9-d69c-a516afe88ac5"
      },
      "outputs": [
        {
          "output_type": "stream",
          "name": "stdout",
          "text": [
            "台形の面積：50.0cm²\n"
          ]
        }
      ],
      "source": [
        "top_base = 10\n",
        "bottom_base = 10\n",
        "height = 5\n",
        "\n",
        "area = (top_base + bottom_base) * height / 2\n",
        "\n",
        "print(f\"台形の面積：{area}cm\\u00B2\")\n"
      ]
    },
    {
      "cell_type": "code",
      "source": [],
      "metadata": {
        "id": "mt7bUWN69ayZ"
      },
      "execution_count": null,
      "outputs": []
    }
  ]
}