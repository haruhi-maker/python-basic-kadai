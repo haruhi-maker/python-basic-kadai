{
  "nbformat": 4,
  "nbformat_minor": 0,
  "metadata": {
    "colab": {
      "provenance": []
    },
    "kernelspec": {
      "name": "python3",
      "display_name": "Python 3"
    },
    "language_info": {
      "name": "python"
    }
  },
  "cells": [
    {
      "cell_type": "code",
      "execution_count": 15,
      "metadata": {
        "colab": {
          "base_uri": "https://localhost:8080/"
        },
        "id": "W_xciGJdhKTG",
        "outputId": "e4c3476f-070f-46b6-c945-fdc125dcad7a"
      },
      "outputs": [
        {
          "output_type": "stream",
          "name": "stdout",
          "text": [
            "for\n",
            "水\n",
            "金\n",
            "地\n",
            "火\n",
            "木\n",
            "土\n",
            "天\n",
            "海\n",
            "冥\n",
            "while\n",
            "水\n",
            "金\n",
            "地\n",
            "火\n",
            "木\n",
            "土\n",
            "天\n",
            "海\n",
            "冥\n"
          ]
        }
      ],
      "source": [
        "array = [\"水\",\"金\",\"地\",\"火\",\"木\",\"土\",\"天\",\"海\",\"冥\"]\n",
        "\n",
        "print(\"for\")\n",
        "for i in array:\n",
        "  print(i)\n",
        "\n",
        "#要素数の取得\n",
        "element_count = len(array)\n",
        "\n",
        "#ループ変数の定義\n",
        "index = 0\n",
        "\n",
        "print(\"while\")\n",
        "while index < element_count:\n",
        "  print(array[index])\n",
        "  index = index + 1\n"
      ]
    }
  ]
}