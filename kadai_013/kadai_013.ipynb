{
  "nbformat": 4,
  "nbformat_minor": 0,
  "metadata": {
    "colab": {
      "provenance": []
    },
    "kernelspec": {
      "name": "python3",
      "display_name": "Python 3"
    },
    "language_info": {
      "name": "python"
    }
  },
  "cells": [
    {
      "cell_type": "code",
      "execution_count": 3,
      "metadata": {
        "colab": {
          "base_uri": "https://localhost:8080/"
        },
        "id": "BvN_-bB7z5k4",
        "outputId": "8617889d-e8f8-4540-86d0-df43718728b6"
      },
      "outputs": [
        {
          "output_type": "stream",
          "name": "stdout",
          "text": [
            "定価は1052.1円です。\n"
          ]
        }
      ],
      "source": [
        "#消費税の計算\n",
        "def add_tax(raw_price: int, tax_rate: float) -> int:\n",
        "\n",
        "  #消費税の取得\n",
        "  tax_price = raw_price * tax_rate\n",
        "  regular_price = raw_price + tax_price\n",
        "\n",
        "  return regular_price\n",
        "\n",
        "\n",
        "#原価、定価の定義\n",
        "raw_price = 500\n",
        "regular_price = 0\n",
        "\n",
        "#消費税率の設定\n",
        "tax_rate = 1.10\n",
        "\n",
        "#消費税を加えた定価の計算\n",
        "regular_price= add_tax(raw_price, tax_rate)\n",
        "print(f\"定価は{regular_price}円です。\")"
      ]
    }
  ]
}