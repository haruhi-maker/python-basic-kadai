{
  "nbformat": 4,
  "nbformat_minor": 0,
  "metadata": {
    "colab": {
      "provenance": []
    },
    "kernelspec": {
      "name": "python3",
      "display_name": "Python 3"
    },
    "language_info": {
      "name": "python"
    }
  },
  "cells": [
    {
      "cell_type": "code",
      "execution_count": 14,
      "metadata": {
        "colab": {
          "base_uri": "https://localhost:8080/"
        },
        "id": "BvN_-bB7z5k4",
        "outputId": "34a8b349-c754-4e49-8ffa-33b1ea447c05"
      },
      "outputs": [
        {
          "output_type": "stream",
          "name": "stdout",
          "text": [
            "侍の年齢は18です。\n"
          ]
        }
      ],
      "source": [
        "class Human:\n",
        "  def __init__(self, name: str, age: int):\n",
        "    self.name = name\n",
        "    self.age = age\n",
        "\n",
        "  def printinfo(self):\n",
        "    print(f\"{self.name}の年齢は{str(self.age)}です。\")\n",
        "\n",
        "samurai = Human(\"侍\", 18)\n",
        "samurai.printinfo()\n"
      ]
    }
  ]
}