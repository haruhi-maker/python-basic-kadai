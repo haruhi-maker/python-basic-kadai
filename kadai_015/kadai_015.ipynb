{
  "nbformat": 4,
  "nbformat_minor": 0,
  "metadata": {
    "colab": {
      "provenance": []
    },
    "kernelspec": {
      "name": "python3",
      "display_name": "Python 3"
    },
    "language_info": {
      "name": "python"
    }
  },
  "cells": [
    {
      "cell_type": "code",
      "execution_count": 12,
      "metadata": {
        "colab": {
          "base_uri": "https://localhost:8080/"
        },
        "id": "BvN_-bB7z5k4",
        "outputId": "e0a5286d-ac25-479e-f8ba-308be778fe96"
      },
      "outputs": [
        {
          "output_type": "stream",
          "name": "stdout",
          "text": [
            "侍の年齢は18です。\n"
          ]
        }
      ],
      "source": [
        "class Human:\n",
        "  def __init__(self):\n",
        "    self.name = \"侍\"\n",
        "    self.age = 18\n",
        "\n",
        "  def printinfo(self):\n",
        "    print(f\"{self.name}の年齢は{str(self.age)}です。\")\n",
        "\n",
        "samurai = Human()\n",
        "samurai.printinfo()\n"
      ]
    }
  ]
}