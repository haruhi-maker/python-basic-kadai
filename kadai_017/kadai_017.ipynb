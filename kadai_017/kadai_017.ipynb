{
  "nbformat": 4,
  "nbformat_minor": 0,
  "metadata": {
    "colab": {
      "provenance": []
    },
    "kernelspec": {
      "name": "python3",
      "display_name": "Python 3"
    },
    "language_info": {
      "name": "python"
    }
  },
  "cells": [
    {
      "cell_type": "code",
      "execution_count": 15,
      "metadata": {
        "colab": {
          "base_uri": "https://localhost:8080/"
        },
        "id": "BvN_-bB7z5k4",
        "outputId": "c0684765-c1cf-4980-82b6-df28ac00f655"
      },
      "outputs": [
        {
          "output_type": "stream",
          "name": "stdout",
          "text": [
            "大人ではありません。\n",
            "大人です。\n",
            "大人です。\n"
          ]
        }
      ],
      "source": [
        "class Human:\n",
        "  def __init__(self, name: str, age: int):\n",
        "    self.name = name\n",
        "    self.age = age\n",
        "\n",
        "  def printinfo(self):\n",
        "    print(f\"{self.name}の年齢は{str(self.age)}です。\")\n",
        "\n",
        "  def check_adult(self):\n",
        "    if self.age >= 20:\n",
        "      print(\"大人です。\")\n",
        "    else:\n",
        "      print(\"大人ではありません。\")\n",
        "\n",
        "samurai = Human(\"侍\", 18)\n",
        "bushi = Human(\"武士\", 30)\n",
        "tonosama = Human(\"殿様\", 60)\n",
        "\n",
        "human_array = [samurai, bushi, tonosama]\n",
        "\n",
        "for item in human_array:\n",
        "  item.check_adult()"
      ]
    }
  ]
}